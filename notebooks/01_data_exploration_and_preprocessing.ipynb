{
 "cells": [
  {
   "cell_type": "markdown",
   "id": "6cbab61b",
   "metadata": {},
   "source": [
    "# 01. Data Exploration and Preprocessing"
   ]
  },
  {
   "cell_type": "markdown",
   "id": "35cd61ee",
   "metadata": {},
   "source": [
    "## 0. Imports & Setup"
   ]
  },
  {
   "cell_type": "markdown",
   "id": "63b58c59",
   "metadata": {},
   "source": [
    "### 0.1 Imports"
   ]
  },
  {
   "cell_type": "code",
   "execution_count": 70,
   "id": "2186b6f9",
   "metadata": {},
   "outputs": [
    {
     "name": "stdout",
     "output_type": "stream",
     "text": [
      "Using CPU for spaCy\n",
      "Using device: GPU enabled for PyTorch\n"
     ]
    }
   ],
   "source": [
    "import pandas as pd\n",
    "import numpy as np\n",
    "import matplotlib.pyplot as plt\n",
    "import seaborn as sns\n",
    "\n",
    "from collections import Counter\n",
    "from wordcloud import STOPWORDS\n",
    "from transformers import AutoTokenizer, AutoModelForSequenceClassification\n",
    "\n",
    "import spacy, os, re, string, torch, language_tool_python, tqdm\n",
    "\n",
    "# Enable GPU support for spaCy if available\n",
    "spacy.prefer_gpu()      #type: ignore\n",
    "\n",
    "if spacy.prefer_gpu():  #type: ignore\n",
    "    print(\"Using GPU for spaCy\")\n",
    "else:\n",
    "    print(\"Using CPU for spaCy\")\n",
    "\n",
    "# Enable GPU support for PyTorch if available\n",
    "device = torch.device('cuda' if torch.cuda.is_available() else 'cpu')\n",
    "print(f\"Using device: GPU enabled for PyTorch\")\n",
    "\n",
    "# Set up plotting\n",
    "import matplotlib.pyplot as plt\n",
    "plt.style.use('seaborn-v0_8')\n",
    "%matplotlib inline\n",
    "\n",
    "# !python -m spacy download en_core_web_trf"
   ]
  },
  {
   "cell_type": "markdown",
   "id": "1a3c224c",
   "metadata": {},
   "source": [
    "## 1. Data Loading"
   ]
  },
  {
   "cell_type": "markdown",
   "id": "f057db37",
   "metadata": {},
   "source": [
    "### 1.1 Combine All Data with Confidence Rates and Save"
   ]
  },
  {
   "cell_type": "markdown",
   "id": "33c52fc2",
   "metadata": {},
   "source": [
    "Download and load the Financial PhraseBank dataset\n",
    "- Dataset URL: https://www.researchgate.net/publication/251231107_FinancialPhraseBank-v10"
   ]
  },
  {
   "cell_type": "code",
   "execution_count": 71,
   "id": "a51c4a7f",
   "metadata": {},
   "outputs": [
    {
     "name": "stdout",
     "output_type": "stream",
     "text": [
      "Loading ../data/raw/Sentences_50Agree.txt...\n",
      "  Loaded 4846 sentences with 50% agreement\n",
      "Loading ../data/raw/Sentences_66Agree.txt...\n",
      "  Loaded 4217 sentences with 66% agreement\n",
      "Loading ../data/raw/Sentences_75Agree.txt...\n",
      "  Loaded 3453 sentences with 75% agreement\n",
      "Loading ../data/raw/Sentences_100Agree.txt...\n",
      "  Loaded 2264 sentences with 100% agreement\n",
      "\n",
      "💾 Dataset saved to: ../data/processed/financial_phrasebank_all_confidence.csv\n"
     ]
    }
   ],
   "source": [
    "# File paths for all agreement levels\n",
    "file_50_agree = '../data/raw/Sentences_50Agree.txt'\n",
    "file_66_agree = '../data/raw/Sentences_66Agree.txt'\n",
    "file_75_agree = '../data/raw/Sentences_75Agree.txt'\n",
    "file_100_agree = '../data/raw/Sentences_100Agree.txt'\n",
    "\n",
    "# Temporary list to hold data\n",
    "data_list = []\n",
    "\n",
    "# Helper: Extract confidence from filename\n",
    "def extract_confidence(file_path):\n",
    "    fname = os.path.basename(file_path).lower()\n",
    "    if '100agree' in fname:\n",
    "        return 1.00\n",
    "    elif '75agree' in fname:\n",
    "        return 0.75\n",
    "    elif '66agree' in fname:\n",
    "        return 0.66\n",
    "    elif '50agree' in fname:\n",
    "        return 0.50\n",
    "    else:\n",
    "        return None  # Unknown confidence\n",
    "\n",
    "# Load files\n",
    "for file_path in [file_50_agree, file_66_agree, file_75_agree, file_100_agree]:\n",
    "    confidence = extract_confidence(file_path)\n",
    "    if confidence is None:\n",
    "        print(f\"⚠️  Could not determine confidence for: {file_path}\")\n",
    "        continue\n",
    "    if os.path.exists(file_path):\n",
    "        print(f\"Loading {file_path}...\")\n",
    "        loaded_count = 0\n",
    "        with open(file_path, 'r', encoding='latin1') as file:\n",
    "            for line in file:\n",
    "                line = line.strip()\n",
    "                if line and '@' in line:\n",
    "                    parts = line.split('@')\n",
    "                    if len(parts) == 2:\n",
    "                        text, sentiment = parts\n",
    "                        data_list.append({\n",
    "                            'text': text.strip(),\n",
    "                            'sentiment': sentiment.strip(),\n",
    "                            'confidence': confidence\n",
    "                        })\n",
    "                        loaded_count += 1\n",
    "        print(f\"  Loaded {loaded_count} sentences with {int(confidence*100)}% agreement\")\n",
    "    else:\n",
    "        print(f\"⚠️  File not found: {file_path}\")\n",
    "\n",
    "# Create DataFrame\n",
    "if data_list:\n",
    "    df = pd.DataFrame(data_list)\n",
    "    \n",
    "    # Save the combined dataset\n",
    "    output_path = '../data/processed/financial_phrasebank_all_confidence.csv'\n",
    "    df.to_csv(output_path, index=False)\n",
    "    print(f\"\\n💾 Dataset saved to: {output_path}\")\n",
    "else:\n",
    "    print(\"❌ No data loaded. Please check if the files exist and have correct format.\")"
   ]
  },
  {
   "cell_type": "markdown",
   "id": "282fefdb",
   "metadata": {},
   "source": [
    "## 2. Basic EDA"
   ]
  },
  {
   "cell_type": "markdown",
   "id": "4fe2b2d4",
   "metadata": {},
   "source": [
    "### 2.1 Dataframe Head Sample"
   ]
  },
  {
   "cell_type": "code",
   "execution_count": null,
   "id": "fa86b24f",
   "metadata": {},
   "outputs": [],
   "source": [
    "df.head()"
   ]
  },
  {
   "cell_type": "code",
   "execution_count": null,
   "id": "74a032f4",
   "metadata": {},
   "outputs": [
    {
     "name": "stdout",
     "output_type": "stream",
     "text": [
      "First 5 texts before cleaning:\n",
      "1: According to Gran , the company has no plans to move all production to Russia , although that is where the company is growing .\n",
      "--------------------------------------------------------------------------------\n",
      "2: Technopolis plans to develop in stages an area of no less than 100,000 square meters in order to host companies working in computer technologies and telecommunications , the statement said .\n",
      "--------------------------------------------------------------------------------\n",
      "3: The international electronic industry company Elcoteq has laid off tens of employees from its Tallinn facility ; contrary to earlier layoffs the company contracted the ranks of its office workers , the daily Postimees reported .\n",
      "--------------------------------------------------------------------------------\n",
      "4: With the new production plant the company would increase its capacity to meet the expected increase in demand and would improve the use of raw materials and therefore increase the production profitability .\n",
      "--------------------------------------------------------------------------------\n",
      "5: According to the company 's updated strategy for the years 2009-2012 , Basware targets a long-term net sales growth in the range of 20 % -40 % with an operating profit margin of 10 % -20 % of net sales .\n"
     ]
    }
   ],
   "source": [
    "print(\"First 5 texts before cleaning:\")\n",
    "for i, text in enumerate(df['text'].head()):\n",
    "    print(f\"{i+1}: {text}\")\n",
    "    if i >= 4:  # Only show first 5\n",
    "        break\n",
    "    print(\"-\" * 80)"
   ]
  },
  {
   "cell_type": "markdown",
   "id": "b8ca06f0",
   "metadata": {},
   "source": [
    "### 2.2 Data types"
   ]
  },
  {
   "cell_type": "code",
   "execution_count": 73,
   "id": "b0e37799",
   "metadata": {},
   "outputs": [
    {
     "name": "stdout",
     "output_type": "stream",
     "text": [
      "Data types of the database (column, data type): \n",
      "text           object\n",
      "sentiment      object\n",
      "confidence    float64\n",
      "dtype: object\n"
     ]
    }
   ],
   "source": [
    "print(f\"Data types of the database (column, data type): \\n{df.dtypes}\")"
   ]
  },
  {
   "cell_type": "markdown",
   "id": "fa4344c6",
   "metadata": {},
   "source": [
    "### 2.3 Missing Values"
   ]
  },
  {
   "cell_type": "code",
   "execution_count": 74,
   "id": "9f385b36",
   "metadata": {},
   "outputs": [
    {
     "data": {
      "text/plain": [
       "text          0\n",
       "sentiment     0\n",
       "confidence    0\n",
       "dtype: int64"
      ]
     },
     "execution_count": 74,
     "metadata": {},
     "output_type": "execute_result"
    }
   ],
   "source": [
    "df.isnull().sum()"
   ]
  },
  {
   "cell_type": "markdown",
   "id": "3f574865",
   "metadata": {},
   "source": [
    "### 2.4 Duplicate Texts"
   ]
  },
  {
   "cell_type": "code",
   "execution_count": 75,
   "id": "7ac58625",
   "metadata": {},
   "outputs": [
    {
     "data": {
      "text/plain": [
       "9942"
      ]
     },
     "execution_count": 75,
     "metadata": {},
     "output_type": "execute_result"
    }
   ],
   "source": [
    "df['text'].duplicated().sum()  # Check for duplicate texts"
   ]
  },
  {
   "cell_type": "code",
   "execution_count": 76,
   "id": "d2fc6772",
   "metadata": {},
   "outputs": [
    {
     "name": "stdout",
     "output_type": "stream",
     "text": [
      "After removing lower-confidence duplicates, shape: (4838, 3)\n"
     ]
    }
   ],
   "source": [
    "# Remove duplicates, keeping only the highest confidence version\n",
    "df = df.sort_values('confidence', ascending=False).drop_duplicates(subset='text', keep='first').reset_index(drop=True)\n",
    "print(f\"After removing lower-confidence duplicates, shape: {df.shape}\")"
   ]
  },
  {
   "cell_type": "code",
   "execution_count": 77,
   "id": "1b164ba0",
   "metadata": {},
   "outputs": [
    {
     "data": {
      "text/plain": [
       "0"
      ]
     },
     "execution_count": 77,
     "metadata": {},
     "output_type": "execute_result"
    }
   ],
   "source": [
    "df['text'].duplicated().sum()  # Check again for duplicates"
   ]
  },
  {
   "cell_type": "code",
   "execution_count": 78,
   "id": "9f0fc016",
   "metadata": {},
   "outputs": [
    {
     "data": {
      "text/plain": [
       "4838"
      ]
     },
     "execution_count": 78,
     "metadata": {},
     "output_type": "execute_result"
    }
   ],
   "source": [
    "df['text'].count()  # Print the number of unique texts"
   ]
  },
  {
   "cell_type": "markdown",
   "id": "0e2e873f",
   "metadata": {},
   "source": [
    "## 3. Preprocessing - Text Sanitisation"
   ]
  },
  {
   "cell_type": "markdown",
   "id": "669ca3b1",
   "metadata": {},
   "source": [
    "### 3.1 Identify Very Short or Very Long Texts"
   ]
  },
  {
   "cell_type": "code",
   "execution_count": 79,
   "id": "53139df6",
   "metadata": {},
   "outputs": [
    {
     "name": "stdout",
     "output_type": "stream",
     "text": [
      "Number of texts with less than 10 words: 220\n",
      "Number of texts with more than 100 words: 0\n"
     ]
    }
   ],
   "source": [
    "# Text length distribution\n",
    "df['text_length_chars'] = df['text'].str.len()\n",
    "df['text_length_words'] = df['text'].str.split().str.len()\n",
    "\n",
    "# Print number of texts with less than 10 words and more than 100 words\n",
    "num_short = (df['text'].str.split().str.len() < 10).sum()\n",
    "num_long = (df['text'].str.split().str.len() > 100).sum()\n",
    "print(f\"Number of texts with less than 10 words: {num_short}\")\n",
    "print(f\"Number of texts with more than 100 words: {num_long}\")"
   ]
  },
  {
   "cell_type": "code",
   "execution_count": 80,
   "id": "134e6177",
   "metadata": {},
   "outputs": [],
   "source": [
    "# Filter out texts with less than 10 words or more than 100 words\n",
    "df = df[df['text'].str.split().str.len().between(10, 100)].reset_index(drop=True)"
   ]
  },
  {
   "cell_type": "code",
   "execution_count": 81,
   "id": "9dad62e4",
   "metadata": {},
   "outputs": [
    {
     "name": "stdout",
     "output_type": "stream",
     "text": [
      "Number of texts with less than 10 words: 0\n",
      "Number of texts with more than 100 words: 0\n",
      "DataFrame shape (4618, 5)\n"
     ]
    }
   ],
   "source": [
    "# Print number of texts with less than 10 words and more than 100 words\n",
    "num_short = (df['text'].str.split().str.len() < 10).sum()\n",
    "num_long = (df['text'].str.split().str.len() > 100).sum()\n",
    "print(f\"Number of texts with less than 10 words: {num_short}\")\n",
    "print(f\"Number of texts with more than 100 words: {num_long}\")\n",
    "print(f\"DataFrame shape {df.shape}\")  # Print the shape of the DataFrame after filtering"
   ]
  },
  {
   "cell_type": "markdown",
   "id": "6311622a",
   "metadata": {},
   "source": [
    "### 3.2 Text Sanitisation"
   ]
  },
  {
   "cell_type": "markdown",
   "id": "a911f37b",
   "metadata": {},
   "source": [
    "**Preserving Financial Symbols**"
   ]
  },
  {
   "cell_type": "code",
   "execution_count": 82,
   "id": "100fbca7",
   "metadata": {},
   "outputs": [],
   "source": [
    "# ---------------------------------------------------------------------------- #\n",
    "#                            CHARACTERS TO PRESERVE                            #\n",
    "# ---------------------------------------------------------------------------- #\n",
    "\n",
    "# ------------- DEFINE FINANCIAL AND CURRENCY SYMBOLS TO PRESERVE ------------ #\n",
    "financial_symbols = {\n",
    "    # Currency symbols\n",
    "    '$', '€', '£', '¥', '₹', '₽', '₩', '₪', '₡', '₨', '₦', '₵', '₴', '₸', '₼',\n",
    "    # Financial notation\n",
    "    '%', '+', '-', '=', '(', ')', '.', ',', ';', ':', \n",
    "    # Quotation marks (often used in financial context)\n",
    "    '\"', \"'\", '!', '?'\n",
    "    # Add ampersand since we handle it in cleaning\n",
    "    '&'\n",
    "}\n",
    "\n",
    "# ------------------ REMOVE ENCODING ARTIFACTS AND NON-ASCII ----------------- #\n",
    "encoding_artifacts = [\n",
    "    # Unicode replacement characters\n",
    "    '�', '\\ufffd',\n",
    "    # Null and control characters  \n",
    "    '\\x00', '\\x01', '\\x02', '\\x03', '\\x04', '\\x05', '\\x06', '\\x07', '\\x08',\n",
    "    '\\x0b', '\\x0c', '\\x0e', '\\x0f', '\\x10', '\\x11', '\\x12', '\\x13', '\\x14',\n",
    "    '\\x15', '\\x16', '\\x17', '\\x18', '\\x19', '\\x1a', '\\x1b', '\\x1c', '\\x1d',\n",
    "    '\\x1e', '\\x1f', '\\x7f',\n",
    "    # Common encoding artifacts\n",
    "    '\\\\x', '\\\\u', '\\\\n', '\\\\t', '\\\\r',\n",
    "    # Byte order marks\n",
    "    '\\ufeff', '\\ufffe'\n",
    "]\n",
    "\n",
    "# --------------------- STANDARD ALPHANUMERIC CHARACTERS --------------------- #\n",
    "standard_chars = set(string.ascii_letters + string.digits + ' ')\n",
    "\n",
    "# ------------------------- ALL ACCEPTABLE CHARACTERS ------------------------ #\n",
    "acceptable_chars = financial_symbols | standard_chars"
   ]
  },
  {
   "cell_type": "markdown",
   "id": "597835ae",
   "metadata": {},
   "source": [
    "**Grammar Correction Tool Setup**"
   ]
  },
  {
   "cell_type": "code",
   "execution_count": 83,
   "id": "7b228f19",
   "metadata": {},
   "outputs": [
    {
     "name": "stdout",
     "output_type": "stream",
     "text": [
      "LanguageTool initialized successfully\n"
     ]
    }
   ],
   "source": [
    "# ---------------------------------------------------------------------------- #\n",
    "#                           GRAMMAR CORRECTION SETUP                           #\n",
    "# ---------------------------------------------------------------------------- #\n",
    "\n",
    "# Initialize LanguageTool (do this once globally for efficiency)\n",
    "try:\n",
    "    grammar_tool = language_tool_python.LanguageTool('en-US')\n",
    "    GRAMMAR_CORRECTION_ENABLED = True #TODO: ADD THIS TO CONFIG INSTEAD\n",
    "    print(\"LanguageTool initialized successfully\")\n",
    "except Exception as e:\n",
    "    print(f\"LanguageTool initialization failed: {e}\")\n",
    "    print(\"   Grammar correction will be skipped\")\n",
    "    GRAMMAR_CORRECTION_ENABLED = False"
   ]
  },
  {
   "cell_type": "markdown",
   "id": "1327a541",
   "metadata": {},
   "source": [
    "**Functions**"
   ]
  },
  {
   "cell_type": "code",
   "execution_count": 84,
   "id": "c7ade787",
   "metadata": {},
   "outputs": [],
   "source": [
    "def remove_encoding_artifacts_and_non_ascii(text):\n",
    "    \"\"\"\n",
    "    Remove encoding artifacts and non-ASCII characters from the text.\n",
    "    Args:\n",
    "        text (str): The text to clean.\n",
    "    Returns:\n",
    "        str: The cleaned text with encoding artifacts and non-ASCII characters removed.\n",
    "    \"\"\"\n",
    "    # Remove encoding artifacts\n",
    "    for artifact in encoding_artifacts:\n",
    "        text = text.replace(artifact, ' ')\n",
    "    \n",
    "    # Remove non-ASCII characters\n",
    "    text = ''.join(char for char in text if ord(char) < 128)\n",
    "\n",
    "    return text"
   ]
  },
  {
   "cell_type": "code",
   "execution_count": 85,
   "id": "27fcf2c6",
   "metadata": {},
   "outputs": [],
   "source": [
    "\n",
    "def clean_urls_from_text(text):\n",
    "    \"\"\"\n",
    "    Remove URLs and web links from the text.\n",
    "    Args:\n",
    "        text (str): The text to clean.\n",
    "    Returns:\n",
    "        str: The cleaned text with URLs removed.\n",
    "    \"\"\"\n",
    "    text = re.sub(r'http[s]?://(?:[a-zA-Z]|[0-9]|[$-_@.&+]|[!*\\\\(\\\\),]|(?:%[0-9a-fA-F][0-9a-fA-F]))+', '', text)\n",
    "    text = re.sub(r'www\\.(?:[a-zA-Z]|[0-9]|[$-_@.&+]|[!*\\\\(\\\\),]|(?:%[0-9a-fA-F][0-9a-fA-F]))+', '', text)\n",
    "    text = re.sub(r'[a-zA-Z0-9-]+\\.(com|org|net|gov|edu|co\\.uk|de|fr|it|es)', '', text)\n",
    "    text = re.sub(r'\\b[A-Za-z0-9._%+-]+@[A-Za-z0-9.-]+\\.[A-Z|a-z]{2,}\\b', '', text)\n",
    "\n",
    "    return text"
   ]
  },
  {
   "cell_type": "code",
   "execution_count": 86,
   "id": "1748739b",
   "metadata": {},
   "outputs": [],
   "source": [
    "def convert_financial_abbreviations_in_text(text):\n",
    "    \"\"\"\n",
    "    Expand financial abbreviations in the text.\n",
    "    Args:\n",
    "        text (str): The text to process.\n",
    "    Returns:\n",
    "        str: The text with financial abbreviations expanded.\n",
    "    \"\"\"\n",
    "    text = re.sub(r'\\b(\\d+(?:\\.\\d+)?)\\s*mn\\b', r'\\1 million', text, flags=re.IGNORECASE)\n",
    "    text = re.sub(r'\\b(\\d+(?:\\.\\d+)?)\\s*bn\\b', r'\\1 billion', text, flags=re.IGNORECASE)\n",
    "    text = re.sub(r'\\b(\\d+(?:\\.\\d+)?)\\s*tn\\b', r'\\1 trillion', text, flags=re.IGNORECASE)\n",
    "    text = re.sub(r'\\b(\\d+(?:\\.\\d+)?)\\s*k\\b', r'\\1 thousand', text, flags=re.IGNORECASE)\n",
    "    text = re.sub(r'\\b(\\d+(?:\\.\\d+)?)\\s*M\\b(?!\\w)', r'\\1 million', text)\n",
    "    text = re.sub(r'\\b(\\d+(?:\\.\\d+)?)\\s*B\\b(?!\\w)', r'\\1 billion', text)\n",
    "    \n",
    "    return text"
   ]
  },
  {
   "cell_type": "code",
   "execution_count": 87,
   "id": "5b9367bc",
   "metadata": {},
   "outputs": [],
   "source": [
    "def replace_symbols_with_text(text):\n",
    "    \"\"\"\n",
    "    Replace symbols with their text equivalents in the text.\n",
    "    Args:\n",
    "        text (str): The text to process.\n",
    "    Returns:\n",
    "        str: The text with symbols replaced by their text equivalents.\n",
    "    \"\"\"\n",
    "    text = re.sub(r'\\s*&\\s*', ' and ', text)\n",
    "    text = re.sub(r'\\bpct\\b', 'percent', text, flags=re.IGNORECASE)\n",
    "    text = re.sub(r'\\bq1\\b', 'first quarter', text, flags=re.IGNORECASE)\n",
    "    text = re.sub(r'\\bq2\\b', 'second quarter', text, flags=re.IGNORECASE)\n",
    "    text = re.sub(r'\\bq3\\b', 'third quarter', text, flags=re.IGNORECASE)\n",
    "    text = re.sub(r'\\bq4\\b', 'fourth quarter', text, flags=re.IGNORECASE)\n",
    "    text = re.sub(r'\\byoy\\b', 'year over year', text, flags=re.IGNORECASE)\n",
    "    text = re.sub(r'\\bqoq\\b', 'quarter over quarter', text, flags=re.IGNORECASE)\n",
    "    \n",
    "    return text"
   ]
  },
  {
   "cell_type": "code",
   "execution_count": 88,
   "id": "5fa33f13",
   "metadata": {},
   "outputs": [],
   "source": [
    "def clean_consecutive_punctuation(text):\n",
    "    \"\"\"\n",
    "    Remove multiple consecutive punctuation marks, keeping a maximum of two.\n",
    "    Args:\n",
    "        text (str): The text to process.\n",
    "    Returns:\n",
    "        str: The text with cleaned punctuation.\n",
    "    \"\"\"\n",
    "    text = re.sub(r'([.]{3,})', '...', text)    # Keep ellipsis\n",
    "    text = re.sub(r'([!]{2,})', '!', text)      # Reduce multiple exclamations\n",
    "    text = re.sub(r'([`]{2,})', '`', text)      # Reduce multiple backticks\n",
    "    text = re.sub(r'([?]{2,})', '?', text)      # Reduce multiple questions\n",
    "    text = re.sub(r'([,]{2,})', ',', text)      # Remove multiple commas\n",
    "    text = re.sub(r'([;]{2,})', ';', text)      # Remove multiple semicolons\n",
    "    text = re.sub(r'([:]{2,})', ':', text)      # Remove multiple colons\n",
    "    text = re.sub(r'([\"\\']){2,}', r'\\1', text)  # Replace multiple quotes with a single quote\n",
    "    text = re.sub(r'([(]){2,}', '(', text)      # Replace multiple opening parentheses\n",
    "    text = re.sub(r'([)]){2,}', ')', text)      # Replace multiple closing parentheses\n",
    "    text = re.sub(r'([{]){2,}', '{', text)      # Replace multiple opening curly braces\n",
    "    text = re.sub(r'([}]){2,}', '}', text)      # Replace multiple closing curly braces\n",
    "    text = re.sub(r'([\\[]){2,}', '[', text)     # Replace multiple opening square brackets\n",
    "    text = re.sub(r'([\\]]){2,}', ']', text)     # Replace multiple closing square brackets\n",
    "\n",
    "    return text"
   ]
  },
  {
   "cell_type": "code",
   "execution_count": 89,
   "id": "3c52f89b",
   "metadata": {},
   "outputs": [],
   "source": [
    "def fix_whitespace(text):\n",
    "    \"\"\"\n",
    "    Fix spacing around punctuation in the text.\n",
    "    Args:\n",
    "        text (str): The text to process.\n",
    "    Returns:\n",
    "        str: The text with fixed spacing around punctuation.\n",
    "    \"\"\"    \n",
    "    text = re.sub(r'\\s+([,.;:!?%])', r'\\1', text)            # Remove space before punctuation\n",
    "    text = re.sub(r'([,.;:!?%])(?=[A-Za-z])', r'\\1 ', text)  # Add space after punctuation if needed\n",
    "    text = re.sub(r'([,.;:!?%])\\s+', r'\\1 ', text)           # Normalize multiple spaces after punctuation\n",
    "    text = re.sub(r'\\s+', ' ', text)                         # Normalize multiple spaces to a single space\n",
    "    text = re.sub(r'^\\s+|\\s+$', '', text)                    # Remove leading and trailing whitespace\n",
    "\n",
    "    return text"
   ]
  },
  {
   "cell_type": "code",
   "execution_count": 90,
   "id": "14e0e3ec",
   "metadata": {},
   "outputs": [],
   "source": [
    "def apply_grammar_correction(text, max_length_for_grammar=300):\n",
    "    \"\"\"\n",
    "    Apply grammar correction to the text if conditions are met.\n",
    "    Args:\n",
    "        text (str): The text to correct.\n",
    "        max_length_for_grammar (int): Maximum length of text for grammar correction.\n",
    "    Returns:\n",
    "        str: The corrected text if applicable, otherwise the original text.\n",
    "    \"\"\"\n",
    "    if GRAMMAR_CORRECTION_ENABLED and len(text) <= max_length_for_grammar:\n",
    "        try:\n",
    "            corrected_text = grammar_tool.correct(text)\n",
    "            # Only use corrected version if it's not empty\n",
    "            if corrected_text.strip():\n",
    "                text = corrected_text\n",
    "        except Exception as e:\n",
    "            # If grammar correction fails, continue with cleaned text\n",
    "            print(f\"Grammar correction failed for text: {text[:50]}... Error: {e}\")\n",
    "    \n",
    "    return text"
   ]
  },
  {
   "cell_type": "code",
   "execution_count": 91,
   "id": "d48c0a6f",
   "metadata": {},
   "outputs": [],
   "source": [
    "def cleanup_grammar_tool():\n",
    "    \"\"\"Close the LanguageTool instance to free resources\"\"\"\n",
    "    if GRAMMAR_CORRECTION_ENABLED and 'grammar_tool' in globals():\n",
    "        try:\n",
    "            grammar_tool.close()\n",
    "            print(\"LanguageTool closed successfully\")\n",
    "        except:\n",
    "            pass"
   ]
  },
  {
   "cell_type": "code",
   "execution_count": 92,
   "id": "0889c3b8",
   "metadata": {},
   "outputs": [],
   "source": [
    "def clean_text(texts, correct_grammar=True, batch_size=100, max_length_for_grammar=300):\n",
    "    \"\"\"\n",
    "    Clean a pandas Series of texts by applying various text preprocessing steps.\n",
    "    \n",
    "    Args:\n",
    "        texts (pd.Series): Series of texts to clean\n",
    "        correct_grammar (bool): Whether to apply grammar correction\n",
    "        batch_size (int): Size of batches for processing\n",
    "        max_length_for_grammar (int): Maximum text length for grammar correction\n",
    "    \n",
    "    Returns:\n",
    "        pd.Series: Cleaned texts that can be directly assigned to df['text']\n",
    "    \"\"\"    \n",
    "    # ----------------------------------- SETUP ---------------------------------- #\n",
    "    print(f\"Processing {len(texts)} texts...\")\n",
    "    print(f\"Grammar correction: {'Enabled' if correct_grammar and GRAMMAR_CORRECTION_ENABLED else 'Disabled'}\")\n",
    "\n",
    "    # Convert to pandas Series if it's a list\n",
    "    if isinstance(texts, list):\n",
    "        texts = pd.Series(texts)\n",
    "    \n",
    "    # Create backup of original data\n",
    "    original_texts = texts.copy()\n",
    "    \n",
    "    # Track corrections\n",
    "    corrections_made = 0\n",
    "    grammar_corrections = 0\n",
    "    # ---------------------------------------------------------------------------- #\n",
    "\n",
    "    # ----------------------- DISPLAY PRE-CLEANING VERSION ----------------------- #\n",
    "    print(\"First 5 texts before cleaning:\")\n",
    "    for i, text in enumerate(texts.head()):\n",
    "        print(f\"{i+1}: {text}\")\n",
    "        if i >= 4:  # Only show first 5\n",
    "            break\n",
    "    print(\"-\" * 80)\n",
    "    # ---------------------------------------------------------------------------- #\n",
    "    \n",
    "    # ---------------------------- PROCESS IN BATCHES ---------------------------- #\n",
    "    cleaned_texts = texts.copy()\n",
    "    \n",
    "    for start in tqdm.tqdm(range(0, len(texts), batch_size), desc=\"Processing batches\"):\n",
    "        end = min(start + batch_size, len(texts))\n",
    "        batch_indices = texts.index[start:end]\n",
    "        \n",
    "        # Clean each text in the batch\n",
    "        for idx in batch_indices:\n",
    "            text = texts.loc[idx]\n",
    "            original_text = original_texts.loc[idx]\n",
    "            \n",
    "            # Apply cleaning functions\n",
    "            text = remove_encoding_artifacts_and_non_ascii(text)\n",
    "            text = clean_urls_from_text(text)\n",
    "            text = convert_financial_abbreviations_in_text(text)\n",
    "            text = replace_symbols_with_text(text)\n",
    "            text = clean_consecutive_punctuation(text)\n",
    "            text = fix_whitespace(text)\n",
    "            text = apply_grammar_correction(text, max_length_for_grammar) if correct_grammar and GRAMMAR_CORRECTION_ENABLED else text\n",
    "                        \n",
    "            # Update cleaned texts\n",
    "            cleaned_texts.loc[idx] = text\n",
    "            \n",
    "            # Track corrections\n",
    "            corrections_made += 1\n",
    "            if original_text != text:\n",
    "                grammar_corrections += 1\n",
    "    # ---------------------------------------------------------------------------- #\n",
    "    \n",
    "    cleanup_grammar_tool()  # Close LanguageTool to free resources\n",
    "\n",
    "    print(f\"\\n✅ Processing complete:\")\n",
    "    print(f\"  - Total corrections made: {corrections_made}\")\n",
    "    print(f\"  - Estimated grammar corrections: {grammar_corrections}\")\n",
    "\n",
    "    # ----------------------- DISPLAY POST-CLEANING VERSION ---------------------- #\n",
    "    print(\"First 5 texts after cleaning:\")\n",
    "    for i, text in enumerate(cleaned_texts.head()):\n",
    "        print(f\"{i+1}: {text}\")\n",
    "        if i >= 4:  # Only show first 5\n",
    "            break\n",
    "    print(\"-\" * 80)\n",
    "    # ---------------------------------------------------------------------------- #\n",
    "\n",
    "    return cleaned_texts"
   ]
  },
  {
   "cell_type": "code",
   "execution_count": 93,
   "id": "2c4b0065",
   "metadata": {},
   "outputs": [
    {
     "name": "stdout",
     "output_type": "stream",
     "text": [
      "Processing 4618 texts...\n",
      "Grammar correction: Enabled\n",
      "First 5 texts before cleaning:\n",
      "1: Sales in Finland decreased by 10.5 % in January , while sales outside Finland dropped by 17 % .\n",
      "2: Mika Stahlberg , VP F-Secure Labs , said , `` We are excited and proud that F-Secure has been recognized by AV-Comparatives as the Product of the Year .\n",
      "3: Any investment or investment activity to which this communication relates is only available to relevant persons and will be engaged in only with relevant persons .\n",
      "4: And that 's exactly what happened on a recent weekday when an East Haven baker was brought in to remind residents about the Easter tradition of making wheat and rice pies .\n",
      "5: According to an  posted by the World Intellectual Property Organization : `` The present invention relates to hydrocarbons and particularly to the manufacture of hydrocarbon components suitable as aviation fuels or jet fuels and as blending stocks for aviation fuels .\n",
      "--------------------------------------------------------------------------------\n"
     ]
    },
    {
     "name": "stderr",
     "output_type": "stream",
     "text": [
      "Processing batches: 100%|██████████| 47/47 [02:28<00:00,  3.16s/it]\n"
     ]
    },
    {
     "name": "stdout",
     "output_type": "stream",
     "text": [
      "LanguageTool closed successfully\n",
      "\n",
      "✅ Processing complete:\n",
      "  - Total corrections made: 4618\n",
      "  - Estimated grammar corrections: 4616\n",
      "First 5 texts after cleaning:\n",
      "1: Sales in Finland decreased by 10.5% in January, while sales outside Finland dropped by 17%.\n",
      "2: Mika Stahl berg, VP F-Secure Labs, said, ` We are excited and proud that F-Secure has been recognized by AV-Comparatives as the Product of the Year.\n",
      "3: Any investment or investment activity to which this communication relates is only available to relevant persons and will be engaged in only with relevant persons.\n",
      "4: And that's exactly what happened on a recent weekday when an East Haven baker was brought in to remind residents about the Easter tradition of making wheat and rice pies.\n",
      "5: According to a posted by the World Intellectual Property Organization: ` The present invention relates to hydrocarbons and particularly to the manufacture of hydrocarbon components suitable as aviation fuels or jet fuels and as blending stocks for aviation fuels.\n",
      "--------------------------------------------------------------------------------\n"
     ]
    }
   ],
   "source": [
    "df['text'] = clean_text(df['text'])"
   ]
  },
  {
   "cell_type": "markdown",
   "id": "c5a1a3d9",
   "metadata": {},
   "source": [
    "### 3.3 Print Clean Text"
   ]
  },
  {
   "cell_type": "code",
   "execution_count": 94,
   "id": "896dd6f9",
   "metadata": {},
   "outputs": [
    {
     "name": "stdout",
     "output_type": "stream",
     "text": [
      "\n",
      "Example 1:\n",
      "Text: Sales in Finland decreased by 10.5% in January, while sales outside Finland dropped by 17%.\n",
      "Sentiment: negative\n",
      "Confidence: 1.0\n",
      "--------------------------------------------------------------------------------\n",
      "\n",
      "Example 2:\n",
      "Text: Mika Stahl berg, VP F-Secure Labs, said, ` We are excited and proud that F-Secure has been recognized by AV-Comparatives as the Product of the Year.\n",
      "Sentiment: positive\n",
      "Confidence: 1.0\n",
      "--------------------------------------------------------------------------------\n",
      "\n",
      "Example 3:\n",
      "Text: Any investment or investment activity to which this communication relates is only available to relevant persons and will be engaged in only with relevant persons.\n",
      "Sentiment: neutral\n",
      "Confidence: 1.0\n",
      "--------------------------------------------------------------------------------\n",
      "\n",
      "Example 4:\n",
      "Text: And that's exactly what happened on a recent weekday when an East Haven baker was brought in to remind residents about the Easter tradition of making wheat and rice pies.\n",
      "Sentiment: neutral\n",
      "Confidence: 1.0\n",
      "--------------------------------------------------------------------------------\n",
      "\n",
      "Example 5:\n",
      "Text: According to a posted by the World Intellectual Property Organization: ` The present invention relates to hydrocarbons and particularly to the manufacture of hydrocarbon components suitable as aviation fuels or jet fuels and as blending stocks for aviation fuels.\n",
      "Sentiment: neutral\n",
      "Confidence: 1.0\n",
      "--------------------------------------------------------------------------------\n"
     ]
    }
   ],
   "source": [
    "for i, text in enumerate(df['text'].head()):\n",
    "    print(f\"\\nExample {i+1}:\")\n",
    "    print(f\"Text: {text}\")\n",
    "    print(f\"Sentiment: {df.iloc[i]['sentiment']}\")\n",
    "    print(f\"Confidence: {df.iloc[i]['confidence']}\")\n",
    "    print(\"-\" * 80)"
   ]
  },
  {
   "cell_type": "markdown",
   "id": "0451d874",
   "metadata": {},
   "source": [
    "## 4. Advanced EDA - Sentiment Distribution Analysis "
   ]
  },
  {
   "cell_type": "markdown",
   "id": "43c44bac",
   "metadata": {},
   "source": [
    "### 4.1 Sentiment Distribution Analysis"
   ]
  },
  {
   "cell_type": "code",
   "execution_count": 95,
   "id": "f191d564",
   "metadata": {},
   "outputs": [
    {
     "name": "stdout",
     "output_type": "stream",
     "text": [
      "Sentiment distribution:\n"
     ]
    },
    {
     "data": {
      "text/plain": [
       "Text(0, 0.5, '')"
      ]
     },
     "execution_count": 95,
     "metadata": {},
     "output_type": "execute_result"
    },
    {
     "data": {
      "image/png": "[encoded data removed]",
      "text/plain": [
       "<Figure size 700x700 with 1 Axes>"
      ]
     },
     "metadata": {},
     "output_type": "display_data"
    }
   ],
   "source": [
    "# -------------------------- SENTIMENT DISTRIBUTION -------------------------- #\n",
    "print(\"Sentiment distribution:\")\n",
    "df['sentiment'].value_counts()\n",
    "# ---------------------------------------------------------------------------- #\n",
    "\n",
    "# ------------------- PIE CHART FOR SENTIMENT DISTRIBUTION ------------------- #\n",
    "plt.figure(figsize=(7, 7))\n",
    "df['sentiment'].value_counts().plot(\n",
    "    kind='pie',\n",
    "    autopct='%1.1f%%',\n",
    "    colors=['#FFC154', '#47B39C', '#EC6B56'],\n",
    "    startangle=90,\n",
    "    explode=[0.01, 0.01, 0.01]\n",
    ")\n",
    "plt.title('Sentiment Distribution (Pie Chart)')\n",
    "plt.ylabel('')\n",
    "# ---------------------------------------------------------------------------- #"
   ]
  },
  {
   "cell_type": "markdown",
   "id": "19748bae",
   "metadata": {},
   "source": [
    "## 5. Advanced EDA - Text Characteristics Analysis"
   ]
  },
  {
   "cell_type": "markdown",
   "id": "7bd3f19f",
   "metadata": {},
   "source": [
    "### 5.1 Text Length Distribution"
   ]
  },
  {
   "cell_type": "code",
   "execution_count": 96,
   "id": "b89c3aec",
   "metadata": {},
   "outputs": [
    {
     "data": {
      "image/png": "[encoded data removed]",
      "text/plain": [
       "<Figure size 1500x1000 with 2 Axes>"
      ]
     },
     "metadata": {},
     "output_type": "display_data"
    }
   ],
   "source": [
    "fig, axes = plt.subplots(1, 2, figsize=(15, 10))\n",
    "\n",
    "# Character length histogram\n",
    "axes[0].hist(df['text_length_chars'], bins=30, alpha=0.7, color='skyblue')\n",
    "axes[0].set_title('Character Length Distribution')\n",
    "axes[0].set_xlabel('Character Count')\n",
    "axes[0].set_ylabel('Frequency')\n",
    "\n",
    "# Word count histogram\n",
    "axes[1].hist(df['text_length_words'], bins=30, alpha=0.7, color='lightgreen')\n",
    "axes[1].set_title('Word Count Distribution')\n",
    "axes[1].set_xlabel('Word Count')\n",
    "axes[1].set_ylabel('Frequency')\n",
    "\n",
    "plt.tight_layout()\n",
    "plt.show()"
   ]
  },
  {
   "cell_type": "markdown",
   "id": "0f41c174",
   "metadata": {},
   "source": [
    "### 5.2 Most Common Words For Sentiment Classes"
   ]
  },
  {
   "cell_type": "code",
   "execution_count": 97,
   "id": "45c0de95",
   "metadata": {},
   "outputs": [
    {
     "data": {
      "image/png": "[encoded data removed]",
      "text/plain": [
       "<Figure size 1800x600 with 3 Axes>"
      ]
     },
     "metadata": {},
     "output_type": "display_data"
    }
   ],
   "source": [
    "fig, axes = plt.subplots(1, 3, figsize=(18, 6))\n",
    "sentiments = df['sentiment'].unique()\n",
    "for i, sentiment in enumerate(sentiments):\n",
    "    words = df[df['sentiment'] == sentiment]['text'].str.lower().str.split().sum()\n",
    "    filtered_words = [w for w in words if w not in STOPWORDS and w.isalpha()]\n",
    "    common_words = Counter(filtered_words).most_common(15)\n",
    "    labels, values = zip(*common_words)\n",
    "    axes[i].bar(labels, values, color='skyblue')\n",
    "    axes[i].set_title(f\"Top Words: {sentiment.capitalize()}\")\n",
    "    axes[i].set_xticks(range(len(labels)))\n",
    "    axes[i].set_xticklabels(labels, rotation=45, ha='right')\n",
    "    axes[i].set_ylabel('Frequency')\n",
    "plt.tight_layout()\n",
    "plt.show()"
   ]
  },
  {
   "cell_type": "markdown",
   "id": "498a526b",
   "metadata": {},
   "source": [
    "### 5.3 Average Text Length by Sentiment"
   ]
  },
  {
   "cell_type": "code",
   "execution_count": 98,
   "id": "8a5b3bf5",
   "metadata": {},
   "outputs": [
    {
     "data": {
      "image/png": "[encoded data removed]",
      "text/plain": [
       "<Figure size 800x550 with 1 Axes>"
      ]
     },
     "metadata": {},
     "output_type": "display_data"
    }
   ],
   "source": [
    "sns.violinplot(x='sentiment', y='text_length_chars', data=df, hue='sentiment', palette='pastel', legend=False)\n",
    "plt.title('Text Length by Sentiment (Violin Plot)')\n",
    "plt.xlabel('Sentiment')\n",
    "plt.ylabel('Character Count')\n",
    "plt.show()"
   ]
  },
  {
   "cell_type": "markdown",
   "id": "7f180ff9",
   "metadata": {},
   "source": [
    "### 5.3 Remove Unnecessary Text Statistics Columns"
   ]
  },
  {
   "cell_type": "code",
   "execution_count": 99,
   "id": "48400043",
   "metadata": {},
   "outputs": [],
   "source": [
    "df = df.drop(['text_length_chars', 'text_length_words'], axis=1)"
   ]
  },
  {
   "cell_type": "markdown",
   "id": "932c0b35",
   "metadata": {},
   "source": [
    "## 6. Further Preprocessing - Extraction of Named Entity Recognition (NER) & Domain-Specific Characteristics"
   ]
  },
  {
   "cell_type": "markdown",
   "id": "96156d9b",
   "metadata": {},
   "source": [
    "Pipeline: <br>\n",
    "    - NER: Extracts entities from cleaned text and adds those entities to a new column called ```entities```. <br>\n",
    "    - FinBERT: Finance related tokenisation already done in ```clean_text```, workflow here allows memory optimisation by using batches. <br>\n",
    "spaCy's NER works on the original, human-readable text. FinBERT's tokenization breaks text into subword tokens that would be meaningless to spaCy's NER model."
   ]
  },
  {
   "cell_type": "markdown",
   "id": "b2d7a536",
   "metadata": {},
   "source": [
    "### 6.1 NER"
   ]
  },
  {
   "cell_type": "code",
   "execution_count": 100,
   "id": "977f2e6b",
   "metadata": {},
   "outputs": [],
   "source": [
    "# nlp = spacy.load(\"en_core_web_trf\")\n",
    "\n",
    "# def extract_entities(text):\n",
    "#     \"\"\"Extract named entities from text using spaCy\"\"\"\n",
    "#     doc = nlp(text)\n",
    "#     entities = [(ent.text, ent.label_) for ent in doc.ents]\n",
    "#     return entities\n",
    "\n",
    "# # Apply NER extraction to all texts\n",
    "# df['entities'] = df['text'].apply(extract_entities)\n",
    "\n",
    "# # Show some examples\n",
    "# for i in range(3):\n",
    "#     print(f\"\\nText: {df.iloc[i]['text'][:100]}...\")\n",
    "#     print(f\"Entities: {df.iloc[i]['entities']}\")"
   ]
  },
  {
   "cell_type": "code",
   "execution_count": 101,
   "id": "15572ea0",
   "metadata": {},
   "outputs": [
    {
     "data": {
      "text/html": [
       "<div>\n",
       "<style scoped>\n",
       "    .dataframe tbody tr th:only-of-type {\n",
       "        vertical-align: middle;\n",
       "    }\n",
       "\n",
       "    .dataframe tbody tr th {\n",
       "        vertical-align: top;\n",
       "    }\n",
       "\n",
       "    .dataframe thead th {\n",
       "        text-align: right;\n",
       "    }\n",
       "</style>\n",
       "<table border=\"1\" class=\"dataframe\">\n",
       "  <thead>\n",
       "    <tr style=\"text-align: right;\">\n",
       "      <th></th>\n",
       "      <th>text</th>\n",
       "      <th>sentiment</th>\n",
       "      <th>confidence</th>\n",
       "    </tr>\n",
       "  </thead>\n",
       "  <tbody>\n",
       "    <tr>\n",
       "      <th>0</th>\n",
       "      <td>Sales in Finland decreased by 10.5% in January...</td>\n",
       "      <td>negative</td>\n",
       "      <td>1.0</td>\n",
       "    </tr>\n",
       "    <tr>\n",
       "      <th>1</th>\n",
       "      <td>Mika Stahl berg, VP F-Secure Labs, said, ` We ...</td>\n",
       "      <td>positive</td>\n",
       "      <td>1.0</td>\n",
       "    </tr>\n",
       "    <tr>\n",
       "      <th>2</th>\n",
       "      <td>Any investment or investment activity to which...</td>\n",
       "      <td>neutral</td>\n",
       "      <td>1.0</td>\n",
       "    </tr>\n",
       "    <tr>\n",
       "      <th>3</th>\n",
       "      <td>And that's exactly what happened on a recent w...</td>\n",
       "      <td>neutral</td>\n",
       "      <td>1.0</td>\n",
       "    </tr>\n",
       "    <tr>\n",
       "      <th>4</th>\n",
       "      <td>According to a posted by the World Intellectua...</td>\n",
       "      <td>neutral</td>\n",
       "      <td>1.0</td>\n",
       "    </tr>\n",
       "  </tbody>\n",
       "</table>\n",
       "</div>"
      ],
      "text/plain": [
       "                                                text sentiment  confidence\n",
       "0  Sales in Finland decreased by 10.5% in January...  negative         1.0\n",
       "1  Mika Stahl berg, VP F-Secure Labs, said, ` We ...  positive         1.0\n",
       "2  Any investment or investment activity to which...   neutral         1.0\n",
       "3  And that's exactly what happened on a recent w...   neutral         1.0\n",
       "4  According to a posted by the World Intellectua...   neutral         1.0"
      ]
     },
     "execution_count": 101,
     "metadata": {},
     "output_type": "execute_result"
    }
   ],
   "source": [
    "df.head()"
   ]
  },
  {
   "cell_type": "markdown",
   "id": "fcd367cc",
   "metadata": {},
   "source": [
    "### 6.2 Identify Financial Phrases"
   ]
  },
  {
   "cell_type": "code",
   "execution_count": 102,
   "id": "e204d23f",
   "metadata": {},
   "outputs": [
    {
     "name": "stdout",
     "output_type": "stream",
     "text": [
      "FinBERT model loaded: ProsusAI/finbert\n",
      "  - Model labels: {0: 'positive', 1: 'negative', 2: 'neutral'}\n",
      "  - Tokenizer vocab size: 30522\n",
      "  - Using device: GPU\n"
     ]
    }
   ],
   "source": [
    "# ----------------------------------- SETUP ---------------------------------- #\n",
    "# Define the FinBERT model name\n",
    "finbert_model_name = \"ProsusAI/finbert\"\n",
    "\n",
    "# Initialise tokeniser and FinBERT model\n",
    "finbert_tokenizer = AutoTokenizer.from_pretrained(finbert_model_name)\n",
    "finbert_model = AutoModelForSequenceClassification.from_pretrained(finbert_model_name)\n",
    "\n",
    "# Enable GPU support if available\n",
    "finbert_model.to(device)\n",
    "\n",
    "print(f\"FinBERT model loaded: {finbert_model_name}\")\n",
    "print(f\"  - Model labels: {finbert_model.config.id2label}\")\n",
    "print(f\"  - Tokenizer vocab size: {len(finbert_tokenizer)}\")\n",
    "print(f\"  - Using device: {'GPU' if device.type == 'cuda' else 'CPU'}\")\n",
    "# ---------------------------------------------------------------------------- #\n",
    "\n",
    "# ------------------------------- TOKENISATION ------------------------------- #\n",
    "# Financial-aware tokenization\n",
    "def finbert_tokenize_batch(texts, tokenizer, max_length=512):\n",
    "    \"\"\"\n",
    "    Batch tokenization optimized for FinBERT. Data cleaning is applied before tokenization.\n",
    "    Args:\n",
    "        texts (list of str): List of texts to tokenize.\n",
    "        tokenizer: FinBERT tokenizer.\n",
    "        max_length (int): Maximum sequence length for tokenization.\n",
    "    Returns:\n",
    "        dict: Tokenized inputs ready for FinBERT.\n",
    "    \"\"\"\n",
    "    # Tokenize with FinBERT\n",
    "    encoded = tokenizer(\n",
    "        texts,\n",
    "        add_special_tokens=True,\n",
    "        max_length=max_length,\n",
    "        padding='max_length',\n",
    "        truncation=True,\n",
    "        return_attention_mask=True,\n",
    "        return_tensors='pt'\n",
    "    )\n",
    "    \n",
    "    return {\n",
    "        'input_ids': encoded['input_ids'],\n",
    "        'attention_mask': encoded['attention_mask']\n",
    "    }\n",
    "# ---------------------------------------------------------------------------- #\n",
    "\n",
    "# ---------------------- POST PROCESSING AND REFINEMENT ---------------------- #\n",
    "# UNDERSTAND FIRST\n",
    "# Phrase validation: Verify extracted phrases against financial dictionaries/ontologies\n",
    "# Overlap resolution: Handle overlapping phrase candidates\n",
    "# Context validation: Ensure phrases make sense in their surrounding context\n",
    "# Length filtering: Remove phrases that are too short or too long to be meaningful\n",
    "\n",
    "# ---------------------- FINANCIAL PHRASE CATEGORISATION --------------------- #\n",
    "# Semantic clustering: Group similar financial phrases together\n",
    "# Domain classification: Categorize phrases by financial domain (accounting, trading, investment, etc.)\n",
    "# Sentiment association: Link phrases to sentiment indicators if needed\n",
    "\n",
    "# ----------------------------- QUALITY ASSURANCE ---------------------------- #\n",
    "# Confidence scoring: Assign confidence scores to identified phrases\n",
    "# Manual validation: Sample-based human review of extracted phrases\n",
    "# Performance metrics: Calculate precision, recall, and F1-score against gold standard\n",
    "\n",
    "# -------------------- INTEGRATION WITH EXISTING PIPELINE -------------------- #\n",
    "# Feature augmentation: Add identified financial phrases as features to your sentiment analysis\n",
    "# Phrase embeddings: Generate embeddings for identified phrases using FinBERT\n",
    "# Domain-specific filtering: Focus on phrases most relevant to your specific financial domain"
   ]
  },
  {
   "cell_type": "markdown",
   "id": "ea548cde",
   "metadata": {},
   "source": [
    "### 6.3 Sentiment Patterns Around Financial Phrases & Entities"
   ]
  },
  {
   "cell_type": "code",
   "execution_count": 103,
   "id": "4115e40e",
   "metadata": {},
   "outputs": [],
   "source": [
    "# # Count entity types by sentiment\n",
    "# from collections import defaultdict\n",
    "\n",
    "# entity_stats = defaultdict(lambda: defaultdict(int))\n",
    "\n",
    "# for idx, row in df.iterrows():\n",
    "#     sentiment = row['sentiment']\n",
    "#     for entity_text, entity_label in row['entities']:\n",
    "#         entity_stats[sentiment][entity_label] += 1\n",
    "\n",
    "# # Display results\n",
    "# for sentiment in entity_stats:\n",
    "#     print(f\"\\n{sentiment.upper()} - Top entity types:\")\n",
    "#     sorted_entities = sorted(entity_stats[sentiment].items(), \n",
    "#                            key=lambda x: x[1], reverse=True)\n",
    "#     for entity_type, count in sorted_entities[:5]:\n",
    "#         print(f\"  {entity_type}: {count}\")"
   ]
  },
  {
   "cell_type": "markdown",
   "id": "bd360b40",
   "metadata": {},
   "source": [
    "### 6.4 Temporal Patterns"
   ]
  },
  {
   "cell_type": "code",
   "execution_count": 104,
   "id": "ea3adc53",
   "metadata": {},
   "outputs": [],
   "source": [
    "# temporal patterns"
   ]
  },
  {
   "cell_type": "markdown",
   "id": "dbbcdc50",
   "metadata": {},
   "source": [
    "# 02. Data Preprocessing and Feature Engineering\n",
    "\n",
    "**Objective**: Prepare the data for model training by implementing robust preprocessing pipelines.\n",
    "\n",
    "## 📋 Tasks for you to complete:\n",
    "2. Tokenization strategy\n",
    "3. Handling class imbalance\n",
    "4. Train/validation/test split\n",
    "5. Feature engineering for financial text\n",
    "\n",
    "## 🎯 Learning Goals:\n",
    "- Production-ready data preprocessing\n",
    "- Domain-specific feature engineering\n",
    "- Robust data pipeline creation"
   ]
  },
  {
   "cell_type": "code",
   "execution_count": 105,
   "id": "4999bd6a",
   "metadata": {},
   "outputs": [],
   "source": [
    "# TODO: Import preprocessing libraries\n",
    "# Hint: transformers (tokenizer), sklearn (preprocessing), re, string"
   ]
  },
  {
   "cell_type": "markdown",
   "id": "4454a4da",
   "metadata": {},
   "source": [
    "## Tokenization and Encoding"
   ]
  },
  {
   "cell_type": "code",
   "execution_count": 106,
   "id": "93b3081e",
   "metadata": {},
   "outputs": [],
   "source": [
    "# TODO: Set up tokenizer for transformer models\n",
    "# 1. Choose appropriate tokenizer (DistilBERT, BERT, RoBERTa)\n",
    "# 2. Configure max_length, padding, truncation\n",
    "# 3. Handle special tokens\n",
    "\n",
    "from transformers import AutoTokenizer\n",
    "\n",
    "# Your tokenizer setup here\n",
    "MODEL_NAME = \"distilbert-base-uncased\"  # or your choice\n",
    "# tokenizer = AutoTokenizer.from_pretrained(MODEL_NAME)\n",
    "\n",
    "def tokenize_texts(texts, max_length=512):\n",
    "    \"\"\"\n",
    "    Tokenize texts for transformer models.\n",
    "    \n",
    "    Args:\n",
    "        texts (list): List of texts to tokenize\n",
    "        max_length (int): Maximum sequence length\n",
    "        \n",
    "    Returns:\n",
    "        dict: Tokenized inputs\n",
    "    \"\"\"\n",
    "    # Your implementation here\n",
    "    pass"
   ]
  },
  {
   "cell_type": "markdown",
   "id": "b10214d2",
   "metadata": {},
   "source": [
    "## Label Encoding and Class Handling"
   ]
  },
  {
   "cell_type": "code",
   "execution_count": 107,
   "id": "dbcd551a",
   "metadata": {},
   "outputs": [],
   "source": [
    "# TODO: Handle sentiment labels\n",
    "# 1. Encode sentiment labels to numbers\n",
    "# 2. Check class distribution\n",
    "# 3. Implement class balancing strategy if needed\n",
    "\n",
    "from sklearn.preprocessing import LabelEncoder\n",
    "from sklearn.utils.class_weight import compute_class_weight\n",
    "\n",
    "def encode_labels(sentiments):\n",
    "    \"\"\"\n",
    "    Encode sentiment labels to numerical values.\n",
    "    \n",
    "    Args:\n",
    "        sentiments (list): List of sentiment labels\n",
    "        \n",
    "    Returns:\n",
    "        tuple: (encoded_labels, label_encoder)\n",
    "    \"\"\"\n",
    "    # Your implementation here\n",
    "    pass\n",
    "\n",
    "def calculate_class_weights(labels):\n",
    "    \"\"\"\n",
    "    Calculate class weights for handling imbalanced data.\n",
    "    \n",
    "    Args:\n",
    "        labels (array): Encoded labels\n",
    "        \n",
    "    Returns:\n",
    "        dict: Class weights\n",
    "    \"\"\"\n",
    "    # Your implementation here\n",
    "    pass"
   ]
  },
  {
   "cell_type": "markdown",
   "id": "68c4eddd",
   "metadata": {},
   "source": [
    "## Financial Feature Engineering"
   ]
  },
  {
   "cell_type": "code",
   "execution_count": 108,
   "id": "aaa1ee72",
   "metadata": {},
   "outputs": [
    {
     "name": "stdout",
     "output_type": "stream",
     "text": [
      "{}\n"
     ]
    }
   ],
   "source": [
    "# TODO: Extract financial domain features\n",
    "# 1. Financial keywords presence\n",
    "# 2. Numerical patterns (percentages, currencies)\n",
    "# 3. Sentiment-bearing word counts\n",
    "# 4. Text complexity metrics\n",
    "\n",
    "def extract_financial_features(text):\n",
    "    \"\"\"\n",
    "    Extract financial domain-specific features.\n",
    "    \n",
    "    Args:\n",
    "        text (str): Input text\n",
    "        \n",
    "    Returns:\n",
    "        dict: Financial features\n",
    "    \"\"\"\n",
    "    features = {}\n",
    "    \n",
    "    # Financial keywords\n",
    "    financial_keywords = [\n",
    "        'revenue', 'profit', 'loss', 'earnings', 'growth', \n",
    "        'decline', 'increase', 'decrease', 'market', 'stock'\n",
    "    ]\n",
    "    \n",
    "    # Your feature extraction here\n",
    "    # Example:\n",
    "    # features['has_percentage'] = bool(re.search(r'\\d+%', text))\n",
    "    # features['has_currency'] = bool(re.search(r'\\$\\d+', text))\n",
    "    \n",
    "    return features\n",
    "\n",
    "# Test your function\n",
    "sample_text = \"Revenue increased by 15% to $2.5M this quarter\"\n",
    "print(extract_financial_features(sample_text))"
   ]
  },
  {
   "cell_type": "markdown",
   "id": "2887c245",
   "metadata": {},
   "source": [
    "## Data Splitting Strategy"
   ]
  },
  {
   "cell_type": "code",
   "execution_count": 109,
   "id": "9389611c",
   "metadata": {},
   "outputs": [],
   "source": [
    "# TODO: Implement stratified data splitting\n",
    "# 1. Train/validation/test split (70/15/15 or 80/10/10)\n",
    "# 2. Ensure stratification by sentiment class\n",
    "# 3. Set random seeds for reproducibility\n",
    "\n",
    "from sklearn.model_selection import train_test_split\n",
    "\n",
    "def split_data(texts, labels, test_size=0.2, val_size=0.1, random_state=42):\n",
    "    \"\"\"\n",
    "    Split data into train/validation/test sets with stratification.\n",
    "    \n",
    "    Args:\n",
    "        texts (list): List of texts\n",
    "        labels (array): Encoded labels\n",
    "        test_size (float): Test set proportion\n",
    "        val_size (float): Validation set proportion  \n",
    "        random_state (int): Random seed\n",
    "        \n",
    "    Returns:\n",
    "        tuple: (X_train, X_val, X_test, y_train, y_val, y_test)\n",
    "    \"\"\"\n",
    "    # Your implementation here\n",
    "    pass"
   ]
  },
  {
   "cell_type": "markdown",
   "id": "a5004dfa",
   "metadata": {},
   "source": [
    "## Data Pipeline Integration"
   ]
  },
  {
   "cell_type": "code",
   "execution_count": 110,
   "id": "ccef9f06",
   "metadata": {},
   "outputs": [],
   "source": [
    "# TODO: Create complete preprocessing pipeline\n",
    "# 1. Combine all preprocessing steps\n",
    "# 2. Save processed data\n",
    "# 3. Create data loaders for training\n",
    "\n",
    "class FinancialDataProcessor:\n",
    "    \"\"\"\n",
    "    Complete data preprocessing pipeline for financial sentiment analysis.\n",
    "    \"\"\"\n",
    "    \n",
    "    def __init__(self, model_name=\"distilbert-base-uncased\", max_length=512):\n",
    "        self.model_name = model_name\n",
    "        self.max_length = max_length\n",
    "        self.tokenizer = None\n",
    "        self.label_encoder = None\n",
    "        \n",
    "    def fit(self, texts, labels):\n",
    "        \"\"\"\n",
    "        Fit the processor on training data.\n",
    "        \n",
    "        Args:\n",
    "            texts (list): Training texts\n",
    "            labels (list): Training labels\n",
    "        \"\"\"\n",
    "        # Your implementation here\n",
    "        pass\n",
    "    \n",
    "    def transform(self, texts, labels=None):\n",
    "        \"\"\"\n",
    "        Transform texts and labels.\n",
    "        \n",
    "        Args:\n",
    "            texts (list): Texts to transform\n",
    "            labels (list, optional): Labels to transform\n",
    "            \n",
    "        Returns:\n",
    "            dict: Processed data\n",
    "        \"\"\"\n",
    "        # Your implementation here\n",
    "        pass\n",
    "    \n",
    "    def save(self, path):\n",
    "        \"\"\"\n",
    "        Save the processor state.\n",
    "        \n",
    "        Args:\n",
    "            path (str): Save path\n",
    "        \"\"\"\n",
    "        # Your implementation here\n",
    "        pass"
   ]
  },
  {
   "cell_type": "markdown",
   "id": "c5793a2c",
   "metadata": {},
   "source": [
    "## Data Quality Validation"
   ]
  },
  {
   "cell_type": "code",
   "execution_count": 111,
   "id": "2814082c",
   "metadata": {},
   "outputs": [],
   "source": [
    "# TODO: Implement data validation checks\n",
    "# 1. Check for data leakage between splits\n",
    "# 2. Validate tokenization results\n",
    "# 3. Ensure label distribution consistency\n",
    "# 4. Check for edge cases\n",
    "\n",
    "def validate_preprocessing(train_data, val_data, test_data):\n",
    "    \"\"\"\n",
    "    Validate preprocessing results.\n",
    "    \n",
    "    Args:\n",
    "        train_data (dict): Training data\n",
    "        val_data (dict): Validation data\n",
    "        test_data (dict): Test data\n",
    "        \n",
    "    Returns:\n",
    "        dict: Validation results\n",
    "    \"\"\"\n",
    "    validation_results = {}\n",
    "    \n",
    "    # Your validation checks here\n",
    "    # Example checks:\n",
    "    # - No text overlap between splits\n",
    "    # - Token sequence lengths are within limits\n",
    "    # - Label distributions are reasonable\n",
    "    \n",
    "    return validation_results"
   ]
  },
  {
   "cell_type": "markdown",
   "id": "2bba62ba",
   "metadata": {},
   "source": [
    "## Save Processed Data"
   ]
  },
  {
   "cell_type": "code",
   "execution_count": 112,
   "id": "4b80bf36",
   "metadata": {},
   "outputs": [],
   "source": [
    "# TODO: Save processed datasets\n",
    "# 1. Save train/val/test splits\n",
    "# 2. Save preprocessing artifacts (tokenizer, label encoder)\n",
    "# 3. Create data manifest/metadata file\n",
    "\n",
    "import pickle\n",
    "import json\n",
    "from pathlib import Path\n",
    "\n",
    "def save_processed_data(data_dict, save_dir=\"../data/processed\"):\n",
    "    \"\"\"\n",
    "    Save processed data and metadata.\n",
    "    \n",
    "    Args:\n",
    "        data_dict (dict): Processed data\n",
    "        save_dir (str): Save directory\n",
    "    \"\"\"\n",
    "    save_path = Path(save_dir)\n",
    "    save_path.mkdir(exist_ok=True)\n",
    "    \n",
    "    # Your save implementation here\n",
    "    pass\n",
    "\n",
    "# Usage example:\n",
    "# save_processed_data({\n",
    "#     'train': train_data,\n",
    "#     'val': val_data,\n",
    "#     'test': test_data,\n",
    "#     'metadata': metadata\n",
    "# })"
   ]
  },
  {
   "cell_type": "markdown",
   "id": "de6aebfb",
   "metadata": {},
   "source": [
    "## 💡 Implementation Hints:\n",
    "\n",
    "### Text Cleaning:\n",
    "```python\n",
    "def clean_text(text):\n",
    "    # Remove HTML tags\n",
    "    text = re.sub(r'<[^>]+>', '', text)\n",
    "    # Handle financial symbols\n",
    "    text = re.sub(r'\\$([0-9,]+)', r'MONEY_\\1', text)\n",
    "    # Normalize whitespace\n",
    "    text = re.sub(r'\\s+', ' ', text).strip()\n",
    "    return text\n",
    "```\n",
    "\n",
    "### Tokenization:\n",
    "```python\n",
    "tokenizer = AutoTokenizer.from_pretrained('distilbert-base-uncased')\n",
    "encoded = tokenizer(\n",
    "    texts,\n",
    "    padding=True,\n",
    "    truncation=True,\n",
    "    max_length=512,\n",
    "    return_tensors='pt'\n",
    ")\n",
    "```\n",
    "\n",
    "### Class Weights:\n",
    "```python\n",
    "class_weights = compute_class_weight(\n",
    "    'balanced',\n",
    "    classes=np.unique(labels),\n",
    "    y=labels\n",
    ")\n",
    "```"
   ]
  }
 ],
 "metadata": {
  "kernelspec": {
   "display_name": "venv",
   "language": "python",
   "name": "python3"
  },
  "language_info": {
   "codemirror_mode": {
    "name": "ipython",
    "version": 3
   },
   "file_extension": ".py",
   "mimetype": "text/x-python",
   "name": "python",
   "nbconvert_exporter": "python",
   "pygments_lexer": "ipython3",
   "version": "3.10.12"
  }
 },
 "nbformat": 4,
 "nbformat_minor": 5
}
